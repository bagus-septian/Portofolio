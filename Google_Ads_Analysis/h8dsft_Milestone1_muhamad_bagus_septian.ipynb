{
 "cells": [
  {
   "cell_type": "markdown",
   "metadata": {},
   "source": [
    "# **Milestone 1**"
   ]
  },
  {
   "cell_type": "markdown",
   "metadata": {},
   "source": [
    "## Bab 1 Perkenalan\n",
    "\n",
    "Muhamad Bagus Septian - FTDS Batch 13\n",
    "\n",
    "link heroku = https://m-bagus-septian-ftds-013-p0m1.herokuapp.com/"
   ]
  },
  {
   "cell_type": "markdown",
   "metadata": {},
   "source": [
    "## Bab 2 Identifikasi Masalah\n",
    "\n",
    "Tim sukses seorang politisi di California ingin mengadakan kampanye menggunakan Google Ads. Namun, mereka tidak tahu apakah kampanye ini akan berhasil atau tidak dan butuh budget seberapa besar per bulannya. Bantu mereka untuk mengetahui apakah kampanye di Google Ads ini efektif atau tidak.\n",
    "\n",
    "### 2.1 Objective\n",
    "\n",
    "Mengenalisis efektivitas kampanye di Google Ads.\n",
    "\n",
    "### 2.2 Rumusan Masalah\n",
    "\n",
    "1. Mencari tahu jenis iklan di Google Ads.\n",
    "2. Mencari tahu jenis iklan yang menghasilkan output terbanyak.\n",
    "3. Mencari tahu jenis iklan yang paling lama menghasilkan ouput\n",
    "4. Mencari tahu jenis iklan yang paling murah.\n",
    "5. Mencari tahu perbandingan pengeluaran dan output iklan.\n",
    "6. Menggunakan analisis statistik deskriptif untuk melihat gambaran iklan di Google Ads.\n",
    "7. Menggunakan analisis statistik inferential untuk mengetahui strategi iklan terbaik di Google Ads.\n",
    "8. Menggunakan analisis confidence interval untuk mengetahui estimasi pengeluaran per bulan.\n",
    "\n"
   ]
  },
  {
   "cell_type": "markdown",
   "metadata": {},
   "source": [
    "## Bab 3 Data Loading & Queries\n",
    "\n",
    "### 3.1 Data Queries\n",
    "\n",
    "Pada penelitian ini digunakan data yang diakses dari `bigquery_public_data` di Google Cloud Platform BigQuery. Data yang diambil dari `bigquery_public_data` adalah data pada tabel `creative_stats` yaitu kolom `advertiser_name`, `ad_type`, `num_of_days`, `impressions` dan tabel `advertiser_weekly_spend` yaitu kolom `spend_usd` dari dataset `google_political_ads`.Kriteria data yang diambil adalah tabel `creative_stats` pada  kolom `geo_targeting_included` harus mengikutsertakan California, `geo_targeting_excluded` tidak boleh mengikutsertakan California. Sementara itu pada tabel  `advertiser_geo_spend` kolom `country` harus `US` dan `country_subdivision_primary` harus `CA`. Terakhir tabel `advertiser_weekly_spend` kolom `spend_usd` tidak boleh 0. Syntax query yang digunakan untuk mengambil data adalah :\n",
    "\n",
    "```\n",
    "SELECT `bigquery-public-data.google_political_ads.creative_stats`.advertiser_name, ad_type, num_of_days,            \n",
    "       `bigquery-public-data.google_political_ads.advertiser_weekly_spend`.spend_usd, impressions\n",
    "FROM `bigquery-public-data.google_political_ads.creative_stats` \n",
    "JOIN `bigquery-public-data.google_political_ads.advertiser_geo_spend` ON\n",
    "      `bigquery-public-data.google_political_ads.creative_stats`.advertiser_id=\n",
    "      `bigquery-public-data.google_political_ads.advertiser_geo_spend`.advertiser_id\n",
    "JOIN `bigquery-public-data.google_political_ads.advertiser_weekly_spend` ON\n",
    "      `bigquery-public-data.google_political_ads.creative_stats`.advertiser_id=\n",
    "      `bigquery-public-data.google_political_ads.advertiser_weekly_spend`.advertiser_id\n",
    "WHERE geo_targeting_included LIKE \"%California%\" AND \n",
    "      geo_targeting_excluded NOT LIKE \"%California%\" AND\n",
    "      country=\"US\" AND\n",
    "      country_subdivision_primary=\"CA\" AND\n",
    "      `bigquery-public-data.google_political_ads.advertiser_weekly_spend`.spend_usd>0;\n",
    "```\n",
    "\n",
    "Data yang telah diambil kemudian disimpan pada file csv dengan nama file `h8dsft_Milestone1_muhamad_bagus_septian.csv`"
   ]
  },
  {
   "cell_type": "markdown",
   "metadata": {},
   "source": [
    "### 3.2 Data Loading"
   ]
  },
  {
   "cell_type": "code",
   "execution_count": 58,
   "metadata": {},
   "outputs": [],
   "source": [
    "import numpy as np\n",
    "import pandas as pd\n",
    "import matplotlib.pyplot as plt\n",
    "import seaborn as sns\n",
    "from scipy import stats"
   ]
  },
  {
   "cell_type": "code",
   "execution_count": 59,
   "metadata": {},
   "outputs": [],
   "source": [
    "df = pd.read_csv(\"h8dsft_Milestone1_muhamad_bagus_septian.csv\")"
   ]
  },
  {
   "cell_type": "markdown",
   "metadata": {},
   "source": [
    "### 3.3 Data Overview"
   ]
  },
  {
   "cell_type": "code",
   "execution_count": 60,
   "metadata": {},
   "outputs": [
    {
     "data": {
      "text/html": [
       "<div>\n",
       "<style scoped>\n",
       "    .dataframe tbody tr th:only-of-type {\n",
       "        vertical-align: middle;\n",
       "    }\n",
       "\n",
       "    .dataframe tbody tr th {\n",
       "        vertical-align: top;\n",
       "    }\n",
       "\n",
       "    .dataframe thead th {\n",
       "        text-align: right;\n",
       "    }\n",
       "</style>\n",
       "<table border=\"1\" class=\"dataframe\">\n",
       "  <thead>\n",
       "    <tr style=\"text-align: right;\">\n",
       "      <th></th>\n",
       "      <th>advertiser_name</th>\n",
       "      <th>ad_type</th>\n",
       "      <th>num_of_days</th>\n",
       "      <th>spend_usd</th>\n",
       "      <th>impressions</th>\n",
       "    </tr>\n",
       "  </thead>\n",
       "  <tbody>\n",
       "    <tr>\n",
       "      <th>0</th>\n",
       "      <td>DELTA DEFENSE, LLC</td>\n",
       "      <td>TEXT</td>\n",
       "      <td>7</td>\n",
       "      <td>100</td>\n",
       "      <td>0-1000</td>\n",
       "    </tr>\n",
       "    <tr>\n",
       "      <th>1</th>\n",
       "      <td>DELTA DEFENSE, LLC</td>\n",
       "      <td>TEXT</td>\n",
       "      <td>7</td>\n",
       "      <td>100</td>\n",
       "      <td>0-1000</td>\n",
       "    </tr>\n",
       "    <tr>\n",
       "      <th>2</th>\n",
       "      <td>DELTA DEFENSE, LLC</td>\n",
       "      <td>TEXT</td>\n",
       "      <td>7</td>\n",
       "      <td>100</td>\n",
       "      <td>0-1000</td>\n",
       "    </tr>\n",
       "    <tr>\n",
       "      <th>3</th>\n",
       "      <td>DELTA DEFENSE, LLC</td>\n",
       "      <td>TEXT</td>\n",
       "      <td>7</td>\n",
       "      <td>100</td>\n",
       "      <td>0-1000</td>\n",
       "    </tr>\n",
       "    <tr>\n",
       "      <th>4</th>\n",
       "      <td>DELTA DEFENSE, LLC</td>\n",
       "      <td>TEXT</td>\n",
       "      <td>7</td>\n",
       "      <td>100</td>\n",
       "      <td>0-1000</td>\n",
       "    </tr>\n",
       "  </tbody>\n",
       "</table>\n",
       "</div>"
      ],
      "text/plain": [
       "      advertiser_name ad_type  num_of_days  spend_usd impressions\n",
       "0  DELTA DEFENSE, LLC    TEXT            7        100      0-1000\n",
       "1  DELTA DEFENSE, LLC    TEXT            7        100      0-1000\n",
       "2  DELTA DEFENSE, LLC    TEXT            7        100      0-1000\n",
       "3  DELTA DEFENSE, LLC    TEXT            7        100      0-1000\n",
       "4  DELTA DEFENSE, LLC    TEXT            7        100      0-1000"
      ]
     },
     "execution_count": 60,
     "metadata": {},
     "output_type": "execute_result"
    }
   ],
   "source": [
    "df.head()"
   ]
  },
  {
   "cell_type": "code",
   "execution_count": 61,
   "metadata": {},
   "outputs": [
    {
     "data": {
      "text/html": [
       "<div>\n",
       "<style scoped>\n",
       "    .dataframe tbody tr th:only-of-type {\n",
       "        vertical-align: middle;\n",
       "    }\n",
       "\n",
       "    .dataframe tbody tr th {\n",
       "        vertical-align: top;\n",
       "    }\n",
       "\n",
       "    .dataframe thead th {\n",
       "        text-align: right;\n",
       "    }\n",
       "</style>\n",
       "<table border=\"1\" class=\"dataframe\">\n",
       "  <thead>\n",
       "    <tr style=\"text-align: right;\">\n",
       "      <th></th>\n",
       "      <th>advertiser_name</th>\n",
       "      <th>ad_type</th>\n",
       "      <th>num_of_days</th>\n",
       "      <th>spend_usd</th>\n",
       "      <th>impressions</th>\n",
       "    </tr>\n",
       "  </thead>\n",
       "  <tbody>\n",
       "    <tr>\n",
       "      <th>333673</th>\n",
       "      <td>FUTURE FIRST LEADERSHIP PAC</td>\n",
       "      <td>TEXT</td>\n",
       "      <td>31</td>\n",
       "      <td>700</td>\n",
       "      <td>3000-4000</td>\n",
       "    </tr>\n",
       "    <tr>\n",
       "      <th>333674</th>\n",
       "      <td>FUTURE FIRST LEADERSHIP PAC</td>\n",
       "      <td>TEXT</td>\n",
       "      <td>31</td>\n",
       "      <td>300</td>\n",
       "      <td>3000-4000</td>\n",
       "    </tr>\n",
       "    <tr>\n",
       "      <th>333675</th>\n",
       "      <td>FUTURE FIRST LEADERSHIP PAC</td>\n",
       "      <td>TEXT</td>\n",
       "      <td>31</td>\n",
       "      <td>300</td>\n",
       "      <td>3000-4000</td>\n",
       "    </tr>\n",
       "    <tr>\n",
       "      <th>333676</th>\n",
       "      <td>FUTURE FIRST LEADERSHIP PAC</td>\n",
       "      <td>TEXT</td>\n",
       "      <td>31</td>\n",
       "      <td>500</td>\n",
       "      <td>3000-4000</td>\n",
       "    </tr>\n",
       "    <tr>\n",
       "      <th>333677</th>\n",
       "      <td>FUTURE FIRST LEADERSHIP PAC</td>\n",
       "      <td>TEXT</td>\n",
       "      <td>31</td>\n",
       "      <td>800</td>\n",
       "      <td>3000-4000</td>\n",
       "    </tr>\n",
       "  </tbody>\n",
       "</table>\n",
       "</div>"
      ],
      "text/plain": [
       "                    advertiser_name ad_type  num_of_days  spend_usd  \\\n",
       "333673  FUTURE FIRST LEADERSHIP PAC    TEXT           31        700   \n",
       "333674  FUTURE FIRST LEADERSHIP PAC    TEXT           31        300   \n",
       "333675  FUTURE FIRST LEADERSHIP PAC    TEXT           31        300   \n",
       "333676  FUTURE FIRST LEADERSHIP PAC    TEXT           31        500   \n",
       "333677  FUTURE FIRST LEADERSHIP PAC    TEXT           31        800   \n",
       "\n",
       "       impressions  \n",
       "333673   3000-4000  \n",
       "333674   3000-4000  \n",
       "333675   3000-4000  \n",
       "333676   3000-4000  \n",
       "333677   3000-4000  "
      ]
     },
     "execution_count": 61,
     "metadata": {},
     "output_type": "execute_result"
    }
   ],
   "source": [
    "df.tail()"
   ]
  },
  {
   "cell_type": "markdown",
   "metadata": {},
   "source": [
    "Judul Kolom | Definisi variabel\n",
    "---|---\n",
    "`advertiser_name` | Nama pengiklan yang memasang iklan di Google Ads\n",
    "`ad_type` | Jenis iklan yang dipasang di Google Ads\n",
    "`num_of_days` | Lama iklan tertampil di Google Ads dan mendapat impressions\n",
    "`spend_usd` | Biaya yang dikeluarkan untuk memasang iklan di Google Ads setiap minggu\n",
    "`impressions` | Seberapa banyak iklan di tampilkan di Google Ads"
   ]
  },
  {
   "cell_type": "markdown",
   "metadata": {},
   "source": [
    "## Bab 4 Data Cleaning"
   ]
  },
  {
   "cell_type": "markdown",
   "metadata": {},
   "source": [
    "Sebelum melakukan data cleaning perlu dibuat copy dataframe asli untuk memudahkan pengecekan dataframe nantinya"
   ]
  },
  {
   "cell_type": "code",
   "execution_count": 62,
   "metadata": {},
   "outputs": [],
   "source": [
    "df_ads = df.copy()"
   ]
  },
  {
   "cell_type": "markdown",
   "metadata": {},
   "source": [
    "Untuk selanjutnya data yang akan diolah adalah data pada dataframe `df_ads` dan dataframe `df` adalah data mentah yang akan digunakan untuk keperluan pengecekan data jika perlu"
   ]
  },
  {
   "cell_type": "markdown",
   "metadata": {},
   "source": [
    "### 4.1 Adjusting Columns"
   ]
  },
  {
   "cell_type": "code",
   "execution_count": 63,
   "metadata": {},
   "outputs": [
    {
     "data": {
      "text/plain": [
       "array(['0-1000', '4000-5000', '1000-2000', '15000-20000', '30000-35000',\n",
       "       '10000-15000', '5000-6000', '2000-3000', '3000-4000', '8000-9000',\n",
       "       '125000-150000', '20000-25000', '60000-70000', '9000-10000',\n",
       "       '25000-30000', '6000-7000', '900000-1000000', '2250000-2500000',\n",
       "       '3500000-4000000', '3000000-3500000', '350000-400000',\n",
       "       '50000-60000', '35000-40000', '450000-500000', '1500000-1750000',\n",
       "       '300000-350000', '7000-8000', '225000-250000', '100000-125000',\n",
       "       '500000-600000', '≥10000000', '150000-175000', '45000-50000',\n",
       "       '70000-80000', '80000-90000', '250000-300000', '40000-45000',\n",
       "       '600000-700000', '200000-225000', '90000-100000',\n",
       "       '2000000-2250000', '175000-200000', '2500000-3000000',\n",
       "       '1750000-2000000', '1250000-1500000', '4000000-4500000',\n",
       "       '800000-900000', '5000000-6000000', '7000000-8000000',\n",
       "       '400000-450000', '1000000-1250000', '700000-800000',\n",
       "       '4500000-5000000', '9000000-10000000', '8000000-9000000'],\n",
       "      dtype=object)"
      ]
     },
     "execution_count": 63,
     "metadata": {},
     "output_type": "execute_result"
    }
   ],
   "source": [
    "df_ads[\"impressions\"].unique()"
   ]
  },
  {
   "cell_type": "markdown",
   "metadata": {},
   "source": [
    "Pada kolom `impressions` terdapat satu data dengan format yang berbeda yaitu '≥10000000'. Untuk keseragaman data maka peneliti akan mengubah data tersebut menjadi 10000000-20000000"
   ]
  },
  {
   "cell_type": "code",
   "execution_count": 64,
   "metadata": {},
   "outputs": [],
   "source": [
    "df_ads[\"impressions\"].replace(to_replace=\"≥10000000\", value=\"10000000-20000000\", inplace=True)"
   ]
  },
  {
   "cell_type": "markdown",
   "metadata": {},
   "source": [
    "Diketahui data pada kolom `impressions` menrupakan sebuah kisaran angka. Oleh karena itu peneliti ingin mebuat kolom baru yang memuat rata-rata impression yang ada dan memberi nama kolom baru tersebut `average_impressions`"
   ]
  },
  {
   "cell_type": "code",
   "execution_count": 65,
   "metadata": {},
   "outputs": [],
   "source": [
    "new = df_ads[\"impressions\"].str.split(\"-\", n=1, expand=True)"
   ]
  },
  {
   "cell_type": "code",
   "execution_count": 66,
   "metadata": {},
   "outputs": [],
   "source": [
    "min = pd.to_numeric(new[0])\n",
    "max = pd.to_numeric(new[1])"
   ]
  },
  {
   "cell_type": "code",
   "execution_count": 67,
   "metadata": {},
   "outputs": [],
   "source": [
    "df_ads[\"average_impressions\"] = (min+max)/2"
   ]
  },
  {
   "cell_type": "markdown",
   "metadata": {},
   "source": [
    "Stelah membuat kolom baru peneliti akan mengubah nama kolom `impressions` menjadi `impressions_range`"
   ]
  },
  {
   "cell_type": "code",
   "execution_count": 68,
   "metadata": {},
   "outputs": [],
   "source": [
    "df_ads.rename({\"impressions\" : \"impressions_range\"}, axis=1, inplace=True)"
   ]
  },
  {
   "cell_type": "markdown",
   "metadata": {},
   "source": [
    "Selain itu karena diminta mencari tahu pengeluaran bulanan maka peneliti akan membuat kolom baru yang berisi pengeluaran bulanan dengan menggunakan data pada kolom `spend_usd`. Peneliti menggunakan asumsi bahwa setiap satu bulan terdiri dari empat minggu, sehingga kolom pengeluaran bulanan adalah hasil dari data pengeluaran mingguan pada kolom `spend_usd` dikali empat. Peneliti akan memberi nama kolom baru tersebut dengan nama `monthly_spend`"
   ]
  },
  {
   "cell_type": "code",
   "execution_count": 69,
   "metadata": {},
   "outputs": [],
   "source": [
    "df_ads[\"monthly_spend\"] = df_ads[\"spend_usd\"]*4"
   ]
  },
  {
   "cell_type": "markdown",
   "metadata": {},
   "source": [
    "Seteleh membuat kolom baru peneliti akan membuang kolom `spend_usd`karena informasi tersebut tidak digunakan untuk proses penelitian lebih lanjut."
   ]
  },
  {
   "cell_type": "code",
   "execution_count": 70,
   "metadata": {},
   "outputs": [],
   "source": [
    "df_ads.drop(\"spend_usd\", axis=1, inplace=True)"
   ]
  },
  {
   "cell_type": "code",
   "execution_count": 71,
   "metadata": {},
   "outputs": [
    {
     "data": {
      "text/html": [
       "<div>\n",
       "<style scoped>\n",
       "    .dataframe tbody tr th:only-of-type {\n",
       "        vertical-align: middle;\n",
       "    }\n",
       "\n",
       "    .dataframe tbody tr th {\n",
       "        vertical-align: top;\n",
       "    }\n",
       "\n",
       "    .dataframe thead th {\n",
       "        text-align: right;\n",
       "    }\n",
       "</style>\n",
       "<table border=\"1\" class=\"dataframe\">\n",
       "  <thead>\n",
       "    <tr style=\"text-align: right;\">\n",
       "      <th></th>\n",
       "      <th>advertiser_name</th>\n",
       "      <th>ad_type</th>\n",
       "      <th>num_of_days</th>\n",
       "      <th>impressions_range</th>\n",
       "      <th>average_impressions</th>\n",
       "      <th>monthly_spend</th>\n",
       "    </tr>\n",
       "  </thead>\n",
       "  <tbody>\n",
       "    <tr>\n",
       "      <th>0</th>\n",
       "      <td>DELTA DEFENSE, LLC</td>\n",
       "      <td>TEXT</td>\n",
       "      <td>7</td>\n",
       "      <td>0-1000</td>\n",
       "      <td>500.0</td>\n",
       "      <td>400</td>\n",
       "    </tr>\n",
       "    <tr>\n",
       "      <th>1</th>\n",
       "      <td>DELTA DEFENSE, LLC</td>\n",
       "      <td>TEXT</td>\n",
       "      <td>7</td>\n",
       "      <td>0-1000</td>\n",
       "      <td>500.0</td>\n",
       "      <td>400</td>\n",
       "    </tr>\n",
       "    <tr>\n",
       "      <th>2</th>\n",
       "      <td>DELTA DEFENSE, LLC</td>\n",
       "      <td>TEXT</td>\n",
       "      <td>7</td>\n",
       "      <td>0-1000</td>\n",
       "      <td>500.0</td>\n",
       "      <td>400</td>\n",
       "    </tr>\n",
       "    <tr>\n",
       "      <th>3</th>\n",
       "      <td>DELTA DEFENSE, LLC</td>\n",
       "      <td>TEXT</td>\n",
       "      <td>7</td>\n",
       "      <td>0-1000</td>\n",
       "      <td>500.0</td>\n",
       "      <td>400</td>\n",
       "    </tr>\n",
       "    <tr>\n",
       "      <th>4</th>\n",
       "      <td>DELTA DEFENSE, LLC</td>\n",
       "      <td>TEXT</td>\n",
       "      <td>7</td>\n",
       "      <td>0-1000</td>\n",
       "      <td>500.0</td>\n",
       "      <td>400</td>\n",
       "    </tr>\n",
       "  </tbody>\n",
       "</table>\n",
       "</div>"
      ],
      "text/plain": [
       "      advertiser_name ad_type  num_of_days impressions_range  \\\n",
       "0  DELTA DEFENSE, LLC    TEXT            7            0-1000   \n",
       "1  DELTA DEFENSE, LLC    TEXT            7            0-1000   \n",
       "2  DELTA DEFENSE, LLC    TEXT            7            0-1000   \n",
       "3  DELTA DEFENSE, LLC    TEXT            7            0-1000   \n",
       "4  DELTA DEFENSE, LLC    TEXT            7            0-1000   \n",
       "\n",
       "   average_impressions  monthly_spend  \n",
       "0                500.0            400  \n",
       "1                500.0            400  \n",
       "2                500.0            400  \n",
       "3                500.0            400  \n",
       "4                500.0            400  "
      ]
     },
     "execution_count": 71,
     "metadata": {},
     "output_type": "execute_result"
    }
   ],
   "source": [
    "df_ads.head()"
   ]
  },
  {
   "cell_type": "markdown",
   "metadata": {},
   "source": [
    "Diketahui semua perubahan kolom berhasil, data siap diproses lebih lanjut"
   ]
  },
  {
   "cell_type": "markdown",
   "metadata": {},
   "source": [
    "### 4.2 Handling Missing Values"
   ]
  },
  {
   "cell_type": "code",
   "execution_count": 72,
   "metadata": {},
   "outputs": [
    {
     "name": "stdout",
     "output_type": "stream",
     "text": [
      "<class 'pandas.core.frame.DataFrame'>\n",
      "RangeIndex: 333678 entries, 0 to 333677\n",
      "Data columns (total 6 columns):\n",
      " #   Column               Non-Null Count   Dtype  \n",
      "---  ------               --------------   -----  \n",
      " 0   advertiser_name      333678 non-null  object \n",
      " 1   ad_type              333678 non-null  object \n",
      " 2   num_of_days          333678 non-null  int64  \n",
      " 3   impressions_range    333678 non-null  object \n",
      " 4   average_impressions  333678 non-null  float64\n",
      " 5   monthly_spend        333678 non-null  int64  \n",
      "dtypes: float64(1), int64(2), object(3)\n",
      "memory usage: 15.3+ MB\n"
     ]
    }
   ],
   "source": [
    "df_ads.info()"
   ]
  },
  {
   "cell_type": "code",
   "execution_count": 73,
   "metadata": {},
   "outputs": [
    {
     "data": {
      "text/plain": [
       "advertiser_name        0\n",
       "ad_type                0\n",
       "num_of_days            0\n",
       "impressions_range      0\n",
       "average_impressions    0\n",
       "monthly_spend          0\n",
       "dtype: int64"
      ]
     },
     "execution_count": 73,
     "metadata": {},
     "output_type": "execute_result"
    }
   ],
   "source": [
    "df_ads.isna().sum()"
   ]
  },
  {
   "cell_type": "markdown",
   "metadata": {},
   "source": [
    "Diketahui tidak terdapat missing values pada dataframe `df_ads`"
   ]
  },
  {
   "cell_type": "markdown",
   "metadata": {},
   "source": [
    "### 4.3 Handling Invalid Values"
   ]
  },
  {
   "cell_type": "code",
   "execution_count": 74,
   "metadata": {},
   "outputs": [
    {
     "data": {
      "text/html": [
       "<div>\n",
       "<style scoped>\n",
       "    .dataframe tbody tr th:only-of-type {\n",
       "        vertical-align: middle;\n",
       "    }\n",
       "\n",
       "    .dataframe tbody tr th {\n",
       "        vertical-align: top;\n",
       "    }\n",
       "\n",
       "    .dataframe thead th {\n",
       "        text-align: right;\n",
       "    }\n",
       "</style>\n",
       "<table border=\"1\" class=\"dataframe\">\n",
       "  <thead>\n",
       "    <tr style=\"text-align: right;\">\n",
       "      <th></th>\n",
       "      <th>num_of_days</th>\n",
       "      <th>average_impressions</th>\n",
       "      <th>monthly_spend</th>\n",
       "    </tr>\n",
       "  </thead>\n",
       "  <tbody>\n",
       "    <tr>\n",
       "      <th>count</th>\n",
       "      <td>333678.000000</td>\n",
       "      <td>3.336780e+05</td>\n",
       "      <td>3.336780e+05</td>\n",
       "    </tr>\n",
       "    <tr>\n",
       "      <th>mean</th>\n",
       "      <td>16.785764</td>\n",
       "      <td>1.732654e+05</td>\n",
       "      <td>5.104068e+05</td>\n",
       "    </tr>\n",
       "    <tr>\n",
       "      <th>std</th>\n",
       "      <td>40.776316</td>\n",
       "      <td>1.308869e+06</td>\n",
       "      <td>3.075516e+06</td>\n",
       "    </tr>\n",
       "    <tr>\n",
       "      <th>min</th>\n",
       "      <td>1.000000</td>\n",
       "      <td>5.000000e+02</td>\n",
       "      <td>4.000000e+02</td>\n",
       "    </tr>\n",
       "    <tr>\n",
       "      <th>25%</th>\n",
       "      <td>2.000000</td>\n",
       "      <td>5.000000e+02</td>\n",
       "      <td>4.000000e+02</td>\n",
       "    </tr>\n",
       "    <tr>\n",
       "      <th>50%</th>\n",
       "      <td>5.000000</td>\n",
       "      <td>5.000000e+02</td>\n",
       "      <td>2.400000e+03</td>\n",
       "    </tr>\n",
       "    <tr>\n",
       "      <th>75%</th>\n",
       "      <td>14.000000</td>\n",
       "      <td>6.500000e+03</td>\n",
       "      <td>4.920000e+04</td>\n",
       "    </tr>\n",
       "    <tr>\n",
       "      <th>max</th>\n",
       "      <td>532.000000</td>\n",
       "      <td>1.500000e+07</td>\n",
       "      <td>4.161640e+07</td>\n",
       "    </tr>\n",
       "  </tbody>\n",
       "</table>\n",
       "</div>"
      ],
      "text/plain": [
       "         num_of_days  average_impressions  monthly_spend\n",
       "count  333678.000000         3.336780e+05   3.336780e+05\n",
       "mean       16.785764         1.732654e+05   5.104068e+05\n",
       "std        40.776316         1.308869e+06   3.075516e+06\n",
       "min         1.000000         5.000000e+02   4.000000e+02\n",
       "25%         2.000000         5.000000e+02   4.000000e+02\n",
       "50%         5.000000         5.000000e+02   2.400000e+03\n",
       "75%        14.000000         6.500000e+03   4.920000e+04\n",
       "max       532.000000         1.500000e+07   4.161640e+07"
      ]
     },
     "execution_count": 74,
     "metadata": {},
     "output_type": "execute_result"
    }
   ],
   "source": [
    "df_ads.describe()"
   ]
  },
  {
   "cell_type": "code",
   "execution_count": 75,
   "metadata": {},
   "outputs": [],
   "source": [
    "df_ads.to_csv(\"df_ads.csv\", index=False)"
   ]
  },
  {
   "cell_type": "markdown",
   "metadata": {},
   "source": [
    "Diketahui tidak terdapat data dengan nilai yang invalid."
   ]
  },
  {
   "cell_type": "markdown",
   "metadata": {},
   "source": [
    "## Bab 5 Analisis dan Perhitungan"
   ]
  },
  {
   "cell_type": "markdown",
   "metadata": {},
   "source": [
    "### 5.1 Data Exploratory"
   ]
  },
  {
   "cell_type": "markdown",
   "metadata": {},
   "source": [
    "1. Mencari tahu jenis iklan di Google Ads."
   ]
  },
  {
   "cell_type": "code",
   "execution_count": 76,
   "metadata": {},
   "outputs": [
    {
     "data": {
      "text/plain": [
       "VIDEO    222459\n",
       "TEXT      83578\n",
       "IMAGE     27641\n",
       "Name: ad_type, dtype: int64"
      ]
     },
     "execution_count": 76,
     "metadata": {},
     "output_type": "execute_result"
    }
   ],
   "source": [
    "df_ads[\"ad_type\"].value_counts()"
   ]
  },
  {
   "cell_type": "code",
   "execution_count": 77,
   "metadata": {},
   "outputs": [
    {
     "data": {
      "text/plain": [
       "<AxesSubplot:xlabel='ad_type'>"
      ]
     },
     "execution_count": 77,
     "metadata": {},
     "output_type": "execute_result"
    },
    {
     "data": {
      "image/png": "[encoded data removed]",
      "text/plain": [
       "<Figure size 432x288 with 1 Axes>"
      ]
     },
     "metadata": {},
     "output_type": "display_data"
    }
   ],
   "source": [
    "sns.barplot(x=df_ads[\"ad_type\"].value_counts(), y=df_ads[\"ad_type\"].value_counts().index, orient=\"h\")"
   ]
  },
  {
   "cell_type": "markdown",
   "metadata": {},
   "source": [
    "Diketaui terdapat tiga jenis iklan yang dipasang di Google Ads yaitu **text**, **image** dan **video**. Dari ketiga jenis iklan tersebut yang paling sering dipasang adalah jenis iklan **video**"
   ]
  },
  {
   "cell_type": "markdown",
   "metadata": {},
   "source": [
    "2. Mencari tahu jenis iklan apa yang menghasilkan impressions terbanyak"
   ]
  },
  {
   "cell_type": "code",
   "execution_count": 78,
   "metadata": {},
   "outputs": [
    {
     "data": {
      "text/html": [
       "<div>\n",
       "<style scoped>\n",
       "    .dataframe tbody tr th:only-of-type {\n",
       "        vertical-align: middle;\n",
       "    }\n",
       "\n",
       "    .dataframe tbody tr th {\n",
       "        vertical-align: top;\n",
       "    }\n",
       "\n",
       "    .dataframe thead th {\n",
       "        text-align: right;\n",
       "    }\n",
       "</style>\n",
       "<table border=\"1\" class=\"dataframe\">\n",
       "  <thead>\n",
       "    <tr style=\"text-align: right;\">\n",
       "      <th></th>\n",
       "      <th>average_impressions</th>\n",
       "    </tr>\n",
       "    <tr>\n",
       "      <th>ad_type</th>\n",
       "      <th></th>\n",
       "    </tr>\n",
       "  </thead>\n",
       "  <tbody>\n",
       "    <tr>\n",
       "      <th>IMAGE</th>\n",
       "      <td>1.353905e+06</td>\n",
       "    </tr>\n",
       "    <tr>\n",
       "      <th>TEXT</th>\n",
       "      <td>5.488575e+04</td>\n",
       "    </tr>\n",
       "    <tr>\n",
       "      <th>VIDEO</th>\n",
       "      <td>7.104372e+04</td>\n",
       "    </tr>\n",
       "  </tbody>\n",
       "</table>\n",
       "</div>"
      ],
      "text/plain": [
       "         average_impressions\n",
       "ad_type                     \n",
       "IMAGE           1.353905e+06\n",
       "TEXT            5.488575e+04\n",
       "VIDEO           7.104372e+04"
      ]
     },
     "execution_count": 78,
     "metadata": {},
     "output_type": "execute_result"
    }
   ],
   "source": [
    "df_ads.groupby(\"ad_type\")[[\"average_impressions\"]].mean()"
   ]
  },
  {
   "cell_type": "code",
   "execution_count": 79,
   "metadata": {},
   "outputs": [
    {
     "data": {
      "text/plain": [
       "<AxesSubplot:xlabel='average_impressions', ylabel='ad_type'>"
      ]
     },
     "execution_count": 79,
     "metadata": {},
     "output_type": "execute_result"
    },
    {
     "data": {
      "image/png": "[encoded data removed]",
      "text/plain": [
       "<Figure size 432x288 with 1 Axes>"
      ]
     },
     "metadata": {},
     "output_type": "display_data"
    }
   ],
   "source": [
    "sns.barplot(data=df_ads, x=\"average_impressions\", y=\"ad_type\", orient=\"h\")"
   ]
  },
  {
   "cell_type": "markdown",
   "metadata": {},
   "source": [
    "Diketaui jenis iklan dengan rata-rata impression paling banyak adalah iklan dengan jenis **image**."
   ]
  },
  {
   "cell_type": "markdown",
   "metadata": {},
   "source": [
    "3. Mencari tahu jenis iklan yang paling lama mendapatkan impressions"
   ]
  },
  {
   "cell_type": "code",
   "execution_count": 48,
   "metadata": {},
   "outputs": [
    {
     "data": {
      "text/html": [
       "<div>\n",
       "<style scoped>\n",
       "    .dataframe tbody tr th:only-of-type {\n",
       "        vertical-align: middle;\n",
       "    }\n",
       "\n",
       "    .dataframe tbody tr th {\n",
       "        vertical-align: top;\n",
       "    }\n",
       "\n",
       "    .dataframe thead th {\n",
       "        text-align: right;\n",
       "    }\n",
       "</style>\n",
       "<table border=\"1\" class=\"dataframe\">\n",
       "  <thead>\n",
       "    <tr style=\"text-align: right;\">\n",
       "      <th></th>\n",
       "      <th>num_of_days</th>\n",
       "    </tr>\n",
       "    <tr>\n",
       "      <th>ad_type</th>\n",
       "      <th></th>\n",
       "    </tr>\n",
       "  </thead>\n",
       "  <tbody>\n",
       "    <tr>\n",
       "      <th>IMAGE</th>\n",
       "      <td>35.937810</td>\n",
       "    </tr>\n",
       "    <tr>\n",
       "      <th>TEXT</th>\n",
       "      <td>21.209768</td>\n",
       "    </tr>\n",
       "    <tr>\n",
       "      <th>VIDEO</th>\n",
       "      <td>12.743980</td>\n",
       "    </tr>\n",
       "  </tbody>\n",
       "</table>\n",
       "</div>"
      ],
      "text/plain": [
       "         num_of_days\n",
       "ad_type             \n",
       "IMAGE      35.937810\n",
       "TEXT       21.209768\n",
       "VIDEO      12.743980"
      ]
     },
     "execution_count": 48,
     "metadata": {},
     "output_type": "execute_result"
    }
   ],
   "source": [
    "df_ads.groupby(by=\"ad_type\")[[\"ad_type\",\"num_of_days\"]].mean()"
   ]
  },
  {
   "cell_type": "code",
   "execution_count": 49,
   "metadata": {},
   "outputs": [
    {
     "data": {
      "text/plain": [
       "<AxesSubplot:xlabel='num_of_days', ylabel='ad_type'>"
      ]
     },
     "execution_count": 49,
     "metadata": {},
     "output_type": "execute_result"
    },
    {
     "data": {
      "image/png": "[encoded data removed]",
      "text/plain": [
       "<Figure size 432x288 with 1 Axes>"
      ]
     },
     "metadata": {},
     "output_type": "display_data"
    }
   ],
   "source": [
    "sns.barplot(data=df_ads, x=\"num_of_days\", y=\"ad_type\", orient=\"h\")"
   ]
  },
  {
   "cell_type": "markdown",
   "metadata": {},
   "source": [
    "Diketaui jenis iklan dengan rata-rata lama mendapatkan impressions terbanyak adalah iklan dengan jenis **image**."
   ]
  },
  {
   "cell_type": "markdown",
   "metadata": {},
   "source": [
    "4. Mencari tahu jenis iklan apa yang paling murah"
   ]
  },
  {
   "cell_type": "code",
   "execution_count": 29,
   "metadata": {},
   "outputs": [
    {
     "data": {
      "text/html": [
       "<div>\n",
       "<style scoped>\n",
       "    .dataframe tbody tr th:only-of-type {\n",
       "        vertical-align: middle;\n",
       "    }\n",
       "\n",
       "    .dataframe tbody tr th {\n",
       "        vertical-align: top;\n",
       "    }\n",
       "\n",
       "    .dataframe thead th {\n",
       "        text-align: right;\n",
       "    }\n",
       "</style>\n",
       "<table border=\"1\" class=\"dataframe\">\n",
       "  <thead>\n",
       "    <tr style=\"text-align: right;\">\n",
       "      <th></th>\n",
       "      <th>monthly_spend</th>\n",
       "    </tr>\n",
       "    <tr>\n",
       "      <th>ad_type</th>\n",
       "      <th></th>\n",
       "    </tr>\n",
       "  </thead>\n",
       "  <tbody>\n",
       "    <tr>\n",
       "      <th>IMAGE</th>\n",
       "      <td>4.680726e+04</td>\n",
       "    </tr>\n",
       "    <tr>\n",
       "      <th>VIDEO</th>\n",
       "      <td>5.363083e+04</td>\n",
       "    </tr>\n",
       "    <tr>\n",
       "      <th>TEXT</th>\n",
       "      <td>1.879526e+06</td>\n",
       "    </tr>\n",
       "  </tbody>\n",
       "</table>\n",
       "</div>"
      ],
      "text/plain": [
       "         monthly_spend\n",
       "ad_type               \n",
       "IMAGE     4.680726e+04\n",
       "VIDEO     5.363083e+04\n",
       "TEXT      1.879526e+06"
      ]
     },
     "execution_count": 29,
     "metadata": {},
     "output_type": "execute_result"
    }
   ],
   "source": [
    "df_ads.groupby(by=\"ad_type\")[[\"ad_type\",\"monthly_spend\"]].mean().sort_values(by=\"monthly_spend\")"
   ]
  },
  {
   "cell_type": "code",
   "execution_count": 50,
   "metadata": {},
   "outputs": [
    {
     "data": {
      "text/plain": [
       "<AxesSubplot:xlabel='monthly_spend', ylabel='ad_type'>"
      ]
     },
     "execution_count": 50,
     "metadata": {},
     "output_type": "execute_result"
    },
    {
     "data": {
      "image/png": "[encoded data removed]",
      "text/plain": [
       "<Figure size 432x288 with 1 Axes>"
      ]
     },
     "metadata": {},
     "output_type": "display_data"
    }
   ],
   "source": [
    "sns.barplot(data=df_ads, x=\"monthly_spend\", y=\"ad_type\", orient=\"h\")"
   ]
  },
  {
   "cell_type": "markdown",
   "metadata": {},
   "source": [
    "Diketaui jenis iklan dengan biaya rata-rata paling murah adalah iklan dengan jenis **image**."
   ]
  },
  {
   "cell_type": "markdown",
   "metadata": {},
   "source": [
    "4. Mencari tahu bagaimana perbandingan pengeluaran dan impressions"
   ]
  },
  {
   "cell_type": "code",
   "execution_count": 31,
   "metadata": {},
   "outputs": [
    {
     "data": {
      "text/plain": [
       "<AxesSubplot:xlabel='average_impressions', ylabel='num_of_days'>"
      ]
     },
     "execution_count": 31,
     "metadata": {},
     "output_type": "execute_result"
    },
    {
     "data": {
      "image/png": "[encoded data removed]",
      "text/plain": [
       "<Figure size 432x288 with 1 Axes>"
      ]
     },
     "metadata": {},
     "output_type": "display_data"
    }
   ],
   "source": [
    "sns.scatterplot(data=df_ads, x='average_impressions',y='num_of_days', hue='ad_type')"
   ]
  },
  {
   "cell_type": "markdown",
   "metadata": {},
   "source": [
    "Diketahui terdapat dua jenis iklan yang mendapatkan impression terbanyak adalah iklan jenis **video** dan **image**. Namun terdapat iklan dengan jenis **image** yang memerlukan biaya lebih murah dari pada iklan dengan jenis **video**."
   ]
  },
  {
   "cell_type": "markdown",
   "metadata": {},
   "source": [
    "### 5.2 Data Analysis"
   ]
  },
  {
   "cell_type": "markdown",
   "metadata": {},
   "source": [
    "1. Menggunakan analisis statistik deskriptif untuk melihat gambaran iklan di Google Ads."
   ]
  },
  {
   "cell_type": "code",
   "execution_count": 32,
   "metadata": {},
   "outputs": [
    {
     "data": {
      "text/html": [
       "<div>\n",
       "<style scoped>\n",
       "    .dataframe tbody tr th:only-of-type {\n",
       "        vertical-align: middle;\n",
       "    }\n",
       "\n",
       "    .dataframe tbody tr th {\n",
       "        vertical-align: top;\n",
       "    }\n",
       "\n",
       "    .dataframe thead th {\n",
       "        text-align: right;\n",
       "    }\n",
       "</style>\n",
       "<table border=\"1\" class=\"dataframe\">\n",
       "  <thead>\n",
       "    <tr style=\"text-align: right;\">\n",
       "      <th></th>\n",
       "      <th>mean</th>\n",
       "      <th>median</th>\n",
       "      <th>mode</th>\n",
       "    </tr>\n",
       "  </thead>\n",
       "  <tbody>\n",
       "    <tr>\n",
       "      <th>num_of_days</th>\n",
       "      <td>16.785764</td>\n",
       "      <td>5.0</td>\n",
       "      <td>1</td>\n",
       "    </tr>\n",
       "    <tr>\n",
       "      <th>average_impressions</th>\n",
       "      <td>173265.372605</td>\n",
       "      <td>500.0</td>\n",
       "      <td>500.0</td>\n",
       "    </tr>\n",
       "    <tr>\n",
       "      <th>monthly_spend</th>\n",
       "      <td>510406.814953</td>\n",
       "      <td>2400.0</td>\n",
       "      <td>400</td>\n",
       "    </tr>\n",
       "    <tr>\n",
       "      <th>advertiser_name</th>\n",
       "      <td>NaN</td>\n",
       "      <td>NaN</td>\n",
       "      <td>TURNING POINT USA, NFP</td>\n",
       "    </tr>\n",
       "    <tr>\n",
       "      <th>ad_type</th>\n",
       "      <td>NaN</td>\n",
       "      <td>NaN</td>\n",
       "      <td>VIDEO</td>\n",
       "    </tr>\n",
       "    <tr>\n",
       "      <th>impressions_range</th>\n",
       "      <td>NaN</td>\n",
       "      <td>NaN</td>\n",
       "      <td>0-1000</td>\n",
       "    </tr>\n",
       "  </tbody>\n",
       "</table>\n",
       "</div>"
      ],
      "text/plain": [
       "                              mean  median                    mode\n",
       "num_of_days              16.785764     5.0                       1\n",
       "average_impressions  173265.372605   500.0                   500.0\n",
       "monthly_spend        510406.814953  2400.0                     400\n",
       "advertiser_name                NaN     NaN  TURNING POINT USA, NFP\n",
       "ad_type                        NaN     NaN                   VIDEO\n",
       "impressions_range              NaN     NaN                  0-1000"
      ]
     },
     "execution_count": 32,
     "metadata": {},
     "output_type": "execute_result"
    }
   ],
   "source": [
    "num_columns = df_ads.select_dtypes(include=np.number).columns.tolist()\n",
    "cat_columns = df_ads.select_dtypes(include=['object']).columns.tolist()\n",
    "\n",
    "data_mean = df_ads[num_columns].mean().rename('mean')\n",
    "data_median = df_ads[num_columns].median().rename('median')\n",
    "data_mode = df_ads[num_columns + cat_columns].mode().iloc[0].rename('mode')\n",
    "\n",
    "central_tendency = pd.concat([data_mean, data_median, data_mode], axis=1)\n",
    "central_tendency"
   ]
  },
  {
   "cell_type": "code",
   "execution_count": 54,
   "metadata": {},
   "outputs": [
    {
     "data": {
      "image/png": "[encoded data removed]",
      "text/plain": [
       "<Figure size 432x288 with 1 Axes>"
      ]
     },
     "metadata": {},
     "output_type": "display_data"
    }
   ],
   "source": [
    "impress = df_ads['average_impressions']\n",
    "density = stats.gaussian_kde(impress)\n",
    "n, x, _ = plt.hist(impress, histtype='step', bins=25)  \n",
    "plt.plot(x, density(x)*7)\n",
    "plt.axvline(impress.mean(), color='magenta', linestyle='dashed', linewidth=2)\n",
    "plt.axvline(impress.median(), color='green', linestyle='dashed', linewidth=2)\n",
    "plt.show()"
   ]
  },
  {
   "cell_type": "code",
   "execution_count": 55,
   "metadata": {},
   "outputs": [
    {
     "data": {
      "image/png": "[encoded data removed]",
      "text/plain": [
       "<Figure size 432x288 with 1 Axes>"
      ]
     },
     "metadata": {},
     "output_type": "display_data"
    }
   ],
   "source": [
    "days = df_ads['num_of_days']\n",
    "density = stats.gaussian_kde(impress)\n",
    "n, x, _ = plt.hist(days, histtype='step', bins=25)  \n",
    "plt.plot(x, density(x)*7)\n",
    "plt.axvline(days.mean(), color='magenta', linestyle='dashed', linewidth=2)\n",
    "plt.axvline(days.median(), color='green', linestyle='dashed', linewidth=2)\n",
    "plt.show()"
   ]
  },
  {
   "cell_type": "code",
   "execution_count": 56,
   "metadata": {},
   "outputs": [
    {
     "data": {
      "image/png": "[encoded data removed]",
      "text/plain": [
       "<Figure size 432x288 with 1 Axes>"
      ]
     },
     "metadata": {},
     "output_type": "display_data"
    }
   ],
   "source": [
    "spend = df_ads['monthly_spend']\n",
    "density = stats.gaussian_kde(impress)\n",
    "n, x, _ = plt.hist(spend, histtype='step', bins=25)  \n",
    "plt.plot(x, density(x)*7)\n",
    "plt.axvline(spend.mean(), color='magenta', linestyle='dashed', linewidth=2)\n",
    "plt.axvline(spend.median(), color='green', linestyle='dashed', linewidth=2)\n",
    "plt.show()"
   ]
  },
  {
   "cell_type": "markdown",
   "metadata": {},
   "source": [
    "Berdasarkan analisis central tendency diketahui :\n",
    "- Rata-rata iklan di Google Ads mendapatkan impression selama 17 hari\n",
    "- Nilai tengah iklan di Google Ads mendapatkan impression adalah 5 hari\n",
    "- Lama iklan paling sering mendapatkan impression adalah selama 1 hari\n",
    "- Rata-rata penegeluaran per bulan yang diperlukan untuk memasang iklan di Google Ads adalah $ 510406.8\n",
    "- Nilai tengah pengeluaran per bulan yang diperlukan untuk memasang iklan di Google Ads adalah $ 2400.0\n",
    "- Pengeluaran per bulan yang paling sering diperlukan untuk memasang iklan di Google Ads adalah $ 400.0\n",
    "- Rata-rata impression yang didapat iklan yang di pasang di Google Ads adalah sebesar 173265 kali\n",
    "- Nilai tengah jumlah impression yang didapat iklan yang di pasang di Google Ads adalah sebesar 500 kali\n",
    "- Impression paling sering yang didapatkan iklan yang dipasang di Google Ads adalah sebesar 500 kali\n",
    "- Pengiklan yang paling sering memasang iklan adalah TURNING POINT USA, NFP\n",
    "- Jenis iklan yang paling sering dipasang di Google Ads adalah video\n",
    "- Rentang impression yang paling sering didapat di Google Ads adalah 0-1000 kali"
   ]
  },
  {
   "cell_type": "markdown",
   "metadata": {},
   "source": [
    "2. Menggunakan analisis statistik inferential untuk mengetahui strategi iklan terbaik di Google Ads."
   ]
  },
  {
   "cell_type": "markdown",
   "metadata": {},
   "source": [
    "Diketahui jenis iklan termurah adalah iklan jenis image dan alternatif termurah ke dua adalah iklan jenis video. Peneliti ingin melakukan hipotesis apakah terdapat perbedaan yang signifikan pada rata-rata pengeluaran dari kedua jenis iklan tersebut."
   ]
  },
  {
   "cell_type": "code",
   "execution_count": 84,
   "metadata": {},
   "outputs": [
    {
     "name": "stdout",
     "output_type": "stream",
     "text": [
      "Rata-rata pengeluaran jenis iklan jenis image adalah $ 46807.0\n",
      "Rata-rata pengeluaran jenis iklan jenis video adalah $ 53631.0\n"
     ]
    }
   ],
   "source": [
    "image = df_ads[df_ads[\"ad_type\"]==\"IMAGE\"][[\"monthly_spend\"]]\n",
    "video = df_ads[df_ads[\"ad_type\"]==\"VIDEO\"][[\"monthly_spend\"]]\n",
    "\n",
    "print(f\"Rata-rata pengeluaran jenis iklan jenis image adalah $\", np.round(image[\"monthly_spend\"].mean()))\n",
    "print(f\"Rata-rata pengeluaran jenis iklan jenis video adalah $\", np.round(video[\"monthly_spend\"].mean()))"
   ]
  },
  {
   "cell_type": "markdown",
   "metadata": {},
   "source": [
    "Berdasarkan temuan tersebut maka peneliti akan merumuskan hipotesis sebagai berikut :\n",
    "\n",
    "\n",
    "**H0: μ_image = μ_video**\n",
    "\n",
    "**H1: μ_image != μ_video**"
   ]
  },
  {
   "cell_type": "code",
   "execution_count": 87,
   "metadata": {},
   "outputs": [
    {
     "name": "stdout",
     "output_type": "stream",
     "text": [
      "P-value: 0.1753030215667348\n",
      "t-statistics: -1.3553634219631299\n"
     ]
    }
   ],
   "source": [
    "t_stat, p_val = stats.ttest_ind(image[\"monthly_spend\"],video[\"monthly_spend\"])\n",
    "print('P-value:',p_val)\n",
    "print('t-statistics:',t_stat)"
   ]
  },
  {
   "cell_type": "code",
   "execution_count": 137,
   "metadata": {},
   "outputs": [
    {
     "name": "stderr",
     "output_type": "stream",
     "text": [
      "c:\\ProgramData\\Anaconda3\\lib\\site-packages\\seaborn\\distributions.py:2619: FutureWarning: `distplot` is a deprecated function and will be removed in a future version. Please adapt your code to use either `displot` (a figure-level function with similar flexibility) or `histplot` (an axes-level function for histograms).\n",
      "  warnings.warn(msg, FutureWarning)\n",
      "c:\\ProgramData\\Anaconda3\\lib\\site-packages\\seaborn\\distributions.py:2619: FutureWarning: `distplot` is a deprecated function and will be removed in a future version. Please adapt your code to use either `displot` (a figure-level function with similar flexibility) or `histplot` (an axes-level function for histograms).\n",
      "  warnings.warn(msg, FutureWarning)\n"
     ]
    },
    {
     "data": {
      "text/plain": [
       "<matplotlib.legend.Legend at 0x20c1e6134f0>"
      ]
     },
     "execution_count": 137,
     "metadata": {},
     "output_type": "execute_result"
    },
    {
     "data": {
      "image/png": "[encoded data removed]",
      "text/plain": [
       "<Figure size 1152x360 with 1 Axes>"
      ]
     },
     "metadata": {},
     "output_type": "display_data"
    }
   ],
   "source": [
    "image_pop = np.random.normal(image[\"monthly_spend\"].mean(), image[\"monthly_spend\"].std()/np.sqrt(len(image)), 10000)\n",
    "video_pop = np.random.normal(video[\"monthly_spend\"].mean(), video[\"monthly_spend\"].std()/np.sqrt(len(video)), 10000)\n",
    "\n",
    "ci_t = stats.norm.interval(0.95, image[\"monthly_spend\"].mean(), image[\"monthly_spend\"].std()/np.sqrt(len(image)))\n",
    "plt.figure(figsize=(16,5))\n",
    "sns.distplot(image_pop, label='Rata-rata impression iklan jenis Image *Pop',color='blue')\n",
    "sns.distplot(video_pop, label='Rata-rata impression iklan jenis Video *Pop',color='red')\n",
    "\n",
    "plt.axvline(image[\"monthly_spend\"].mean(), color='blue', linewidth=2, label='Image mean')\n",
    "plt.axvline(video[\"monthly_spend\"].mean(), color='red',  linewidth=2, label='Video mean')\n",
    "\n",
    "plt.axvline(ci_t[1], color='green', linestyle='dashed', linewidth=2, label='confidence threshold of 95%')\n",
    "plt.axvline(ci_t[0], color='green', linestyle='dashed', linewidth=2)\n",
    "\n",
    "plt.axvline(image[\"monthly_spend\"].mean()+t_stat[0]*image[\"monthly_spend\"].std()/np.sqrt(len(image)), color='black', linestyle='dashed', linewidth=2, label = 'Alternative Hypothesis')\n",
    "plt.axvline(image[\"monthly_spend\"].mean()-t_stat[0]*image[\"monthly_spend\"].std()/np.sqrt(len(image)), color='black', linestyle='dashed', linewidth=2)\n",
    "\n",
    "plt.legend()"
   ]
  },
  {
   "cell_type": "markdown",
   "metadata": {},
   "source": [
    "Berdasarkan uji hipotesis testing diketahui nilai p > α, berati H0 gagal ditolak. Oleh karena itu dapat disimpulkan bahwa tidak terdapat perbedaan yang signifikan antara mean image dan mean video."
   ]
  },
  {
   "cell_type": "markdown",
   "metadata": {},
   "source": [
    "Karena secara hasil uji hipotesis tidak terdapat perbedaan yang signifikan maka peneliti mengusulkan untuk menggunakan iklan dengan jenis image"
   ]
  },
  {
   "cell_type": "markdown",
   "metadata": {},
   "source": [
    "3. Mencari tahu estimasi biaya per bulan yang dibutuhkan dengan strategi yang dipilih"
   ]
  },
  {
   "cell_type": "markdown",
   "metadata": {},
   "source": [
    "Peneliti akan menggunakan analisis confidence interval untuk mengetahui estimasi biaya yang akan dikeluarkan untuk memasang iklan jenis image"
   ]
  },
  {
   "cell_type": "code",
   "execution_count": 138,
   "metadata": {},
   "outputs": [
    {
     "name": "stdout",
     "output_type": "stream",
     "text": [
      "Batas bawah confidence interval adalah 45671.0\n",
      "Batas atas confidence interval adalah 47943.0\n"
     ]
    }
   ],
   "source": [
    "z = stats.norm.ppf(0.975)\n",
    "margin_error = z*image[\"monthly_spend\"].std()/np.sqrt(len(image))\n",
    "\n",
    "ci_lower = image[\"monthly_spend\"].mean() - margin_error\n",
    "ci_upper = image[\"monthly_spend\"].mean() + margin_error\n",
    "\n",
    "print(f\"Batas bawah confidence interval adalah {np.round(ci_lower)}\")\n",
    "print(f\"Batas atas confidence interval adalah {np.round(ci_upper)}\")"
   ]
  },
  {
   "cell_type": "code",
   "execution_count": 139,
   "metadata": {},
   "outputs": [
    {
     "name": "stderr",
     "output_type": "stream",
     "text": [
      "c:\\ProgramData\\Anaconda3\\lib\\site-packages\\seaborn\\distributions.py:2619: FutureWarning: `distplot` is a deprecated function and will be removed in a future version. Please adapt your code to use either `displot` (a figure-level function with similar flexibility) or `histplot` (an axes-level function for histograms).\n",
      "  warnings.warn(msg, FutureWarning)\n"
     ]
    },
    {
     "data": {
      "text/plain": [
       "<matplotlib.legend.Legend at 0x20c1e995d30>"
      ]
     },
     "execution_count": 139,
     "metadata": {},
     "output_type": "execute_result"
    },
    {
     "data": {
      "image/png": "[encoded data removed]",
      "text/plain": [
       "<Figure size 1152x360 with 1 Axes>"
      ]
     },
     "metadata": {},
     "output_type": "display_data"
    }
   ],
   "source": [
    "plt.figure(figsize=(16,5))\n",
    "sns.distplot(image_pop, label='Weight (Population)', color='blue')\n",
    "plt.axvline(image[\"monthly_spend\"].mean(), color='red', linewidth=2, label='Weight (Mean)')\n",
    "\n",
    "plt.axvline(ci_upper, color='green', linestyle='dashed', linewidth=2, label='confidence threshold of 95%')\n",
    "plt.axvline(ci_lower, color='green', linestyle='dashed', linewidth=2, label='confidence threshold of 95%')\n",
    "\n",
    "plt.legend()"
   ]
  },
  {
   "cell_type": "markdown",
   "metadata": {},
   "source": [
    "Berdasarkan hasil analisis dengan confidence interval maka diperkirakan dengan 95% keyakinan bahwa biaya per bulan yang dibutuhkan untuk memasang iklan dengan jenis image pada Google Ads berkisar antara \\$ 45671.0   hingga  \\$ 47943.0 "
   ]
  },
  {
   "cell_type": "markdown",
   "metadata": {},
   "source": [
    "## Bab 6 Pengambilan Kesimpulan"
   ]
  },
  {
   "cell_type": "markdown",
   "metadata": {},
   "source": [
    "Berdasarkan hasil eksplorasi data ditemukan :\n",
    "- Terdapat tiga jenis iklan yang dipasang di Google Ads yaitu **text**, **image** dan **video**. Dari ketiga jenis iklan tersebut yang paling sering dipasang adalah jenis iklan **video**\n",
    "- Jenis iklan dengan rata-rata impression paling banyak adalah iklan dengan jenis **image**.\n",
    "- Jenis iklan dengan rata-rata lama mendapatkan impressions terbanyak adalah iklan dengan jenis **image**.\n",
    "- Jenis iklan dengan biaya rata-rata paling murah adalah iklan dengan jenis **image**.\n",
    "- Diketahui terdapat dua jenis iklan yang mendapatkan impression terbanyak adalah iklan jenis **video** dan **image**. Namun terdapat iklan dengan jenis **image** yang memerlukan biaya lebih murah dari pada iklan dengan jenis **video**.\n",
    "\n",
    "Dari hasil eksplorasi data tersebut dapat disimpulkan bahwa memasang iklan dengan tipe image adalah strategi kampanye yang paling baik. Meskipun demikian diperlukan analisis lebih lanjut untuk dapat memberikan usulan yang lebih matang.\n",
    "\n",
    "Berdasarkan hasil analisis statistik deskriptif :\n",
    "- Rata-rata iklan di Google Ads mendapatkan impression selama 17 hari\n",
    "- Nilai tengah iklan di Google Ads mendapatkan impression adalah 5 hari\n",
    "- Lama iklan paling sering mendapatkan impression adalah selama 1 hari\n",
    "- Rata-rata penegeluaran per bulan yang diperlukan untuk memasang iklan di Google Ads adalah $ 510406.8\n",
    "- Nilai tengah pengeluaran per bulan yang diperlukan untuk memasang iklan di Google Ads adalah $ 2400.0\n",
    "- Pengeluaran per bulan yang paling sering diperlukan untuk memasang iklan di Google Ads adalah $ 400.0\n",
    "- Rata-rata impression yang didapat iklan yang di pasang di Google Ads adalah sebesar 173265 kali\n",
    "- Nilai tengah jumlah impression yang didapat iklan yang di pasang di Google Ads adalah sebesar 500 kali\n",
    "- Impression paling sering yang didapatkan iklan yang dipasang di Google Ads adalah sebesar 500 kali\n",
    "- Pengiklan yang paling sering memasang iklan adalah TURNING POINT USA, NFP\n",
    "- Jenis iklan yang paling sering dipasang di Google Ads adalah video\n",
    "- Rentang impression yang paling sering didapat di Google Ads adalah 0-1000 kali\n",
    "\n",
    "Dari hasil analisis statistik deskriptif diketahui bahwa rata-rata lama iklan mendapatkan impression untuk iklan dengan jenis image yaitu 35 hari. Sedangkan rata-rata keseluruhan lama iklan mendapat impression adalah 17 hari. Oleh karena itu dapat disimpulkan bahwa rata-rata lama iklan jenis image lebih besar dari rata-rata iklan keseluruhan. Selain itu \n",
    "rata-rata biaya yang diperlukan untuk memasang iklan dengan jenis image sebesar \\$ 46807.0 juga lebih kecil dari rata-rata biaya pemasangan iklan keseluruhan yaitu \\$ 510406.8. Terakhir begitu rata-rata impression untuk iklan jenis image sebesar 1353905 kali juga lebih besar dari rata-rata impression iklan keseluruhan yaitu sebesar 173265 kali.\n",
    "\n",
    "Pada hasil uji hipotesis untuk membandingkan dua iklan dengan biaya yang paling murah yaitu iklan dengan jenis image dan juga jenis video tidak ditemukan perbedaan yang signifikan sehingga dengan mempertimbangankan temuan analisis yang sudah dilakukan sebelumnya, maka strategi kampanye yang paling efektif di Google Ads adalah dengan menggunakan iklan dengan jenis image. Selain itu dari hasil analisis yang sudah dilakukan peneliti menemukan estimasi biaya per bulan yang diperlukan untuk memasang data dengan jenis image berkisar antara \\$ 45671.0   hingga  \\$ 47943.0"
   ]
  }
 ],
 "metadata": {
  "kernelspec": {
   "display_name": "Python 3.9.12 ('base')",
   "language": "python",
   "name": "python3"
  },
  "language_info": {
   "codemirror_mode": {
    "name": "ipython",
    "version": 3
   },
   "file_extension": ".py",
   "mimetype": "text/x-python",
   "name": "python",
   "nbconvert_exporter": "python",
   "pygments_lexer": "ipython3",
   "version": "3.9.12"
  },
  "orig_nbformat": 4,
  "vscode": {
   "interpreter": {
    "hash": "ad2bdc8ecc057115af97d19610ffacc2b4e99fae6737bb82f5d7fb13d2f2c186"
   }
  }
 },
 "nbformat": 4,
 "nbformat_minor": 2
}
